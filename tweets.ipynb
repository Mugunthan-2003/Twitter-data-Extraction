{
 "cells": [
  {
   "cell_type": "code",
   "execution_count": 2,
   "metadata": {},
   "outputs": [
    {
     "name": "stdout",
     "output_type": "stream",
     "text": [
      "Defaulting to user installation because normal site-packages is not writeable\n",
      "Requirement already satisfied: tweepy in c:\\users\\mugun\\appdata\\roaming\\python\\python39\\site-packages (4.14.0)\n",
      "Requirement already satisfied: oauthlib<4,>=3.2.0 in c:\\users\\mugun\\appdata\\roaming\\python\\python39\\site-packages (from tweepy) (3.2.2)\n",
      "Requirement already satisfied: requests<3,>=2.27.0 in c:\\users\\mugun\\appdata\\roaming\\python\\python39\\site-packages (from tweepy) (2.31.0)\n",
      "Requirement already satisfied: requests-oauthlib<2,>=1.2.0 in c:\\users\\mugun\\appdata\\roaming\\python\\python39\\site-packages (from tweepy) (1.3.1)\n",
      "Requirement already satisfied: charset-normalizer<4,>=2 in c:\\users\\mugun\\appdata\\roaming\\python\\python39\\site-packages (from requests<3,>=2.27.0->tweepy) (2.1.1)\n",
      "Requirement already satisfied: idna<4,>=2.5 in c:\\users\\mugun\\appdata\\roaming\\python\\python39\\site-packages (from requests<3,>=2.27.0->tweepy) (2.10)\n",
      "Requirement already satisfied: urllib3<3,>=1.21.1 in c:\\users\\mugun\\appdata\\roaming\\python\\python39\\site-packages (from requests<3,>=2.27.0->tweepy) (1.26.14)\n",
      "Requirement already satisfied: certifi>=2017.4.17 in c:\\users\\mugun\\appdata\\roaming\\python\\python39\\site-packages (from requests<3,>=2.27.0->tweepy) (2022.12.7)\n",
      "Note: you may need to restart the kernel to use updated packages.\n"
     ]
    }
   ],
   "source": [
    "%pip install tweepy\n",
    "%pip install googletrans==4.0.0-rc1"
   ]
  },
  {
   "cell_type": "code",
   "execution_count": 1,
   "metadata": {},
   "outputs": [],
   "source": [
    "import requests\n",
    "import json\n",
    "import tweepy\n",
    "from googletrans import Translator"
   ]
  },
  {
   "cell_type": "code",
   "execution_count": 2,
   "metadata": {},
   "outputs": [
    {
     "name": "stdout",
     "output_type": "stream",
     "text": [
      "Hello how are you?\n"
     ]
    }
   ],
   "source": [
    "def translate_text(text, target_language=\"en\"):\n",
    "    translator = Translator()\n",
    "    result = translator.translate(text, dest=target_language)\n",
    "    return result.text\n",
    "\n",
    "text = \"नमस्ते, क्या हाल है?\"\n",
    "translated_text = translate_text(text)\n",
    "print(translated_text)"
   ]
  },
  {
   "cell_type": "code",
   "execution_count": 3,
   "metadata": {},
   "outputs": [],
   "source": [
    "#Twitter Credentials\n",
    "\n",
    "consumer_key = 'x9EqrJLNlugbXZrCB96vPSx2b'\n",
    "consumer_secret = 'KiGRY7vmLru0uaZ4I89XL0JIisjf1L6gttZMYFbR6sAHWeOhii'\n",
    "access_token = '1768293357736927232-lDrXLOB8WjmMDlS4C17GXbjVA372Gg'\n",
    "access_token_secret = 'SdpnvJql6ihjIhxVzCb8Doyj0D0RPhkCrl8g7vLi6WyWm'\n",
    "bearer_token=\"AAAAAAAAAAAAAAAAAAAAAOzDswEAAAAA4npfeWZiudxzpGk1K8ykHikPKNU%3DrlC1erY2ORi0Z5X1QMVqth116ZfJs2LKUCLyLuDbeFsD7OF9zs\""
   ]
  },
  {
   "cell_type": "code",
   "execution_count": 4,
   "metadata": {},
   "outputs": [
    {
     "name": "stdout",
     "output_type": "stream",
     "text": [
      "https://api.twitter.com/2/users/by?usernames=narendramodi&user.fields=description,created_at,id,location,name,public_metrics,url,username,verified\n",
      "200\n",
      "{\n",
      "    \"data\": [\n",
      "        {\n",
      "            \"created_at\": \"2009-01-10T17:18:56.000Z\",\n",
      "            \"description\": \"Prime Minister of India\",\n",
      "            \"id\": \"18839785\",\n",
      "            \"location\": \"India\",\n",
      "            \"name\": \"Narendra Modi\",\n",
      "            \"public_metrics\": {\n",
      "                \"followers_count\": 97394496,\n",
      "                \"following_count\": 2665,\n",
      "                \"like_count\": 0,\n",
      "                \"listed_count\": 30671,\n",
      "                \"tweet_count\": 41411\n",
      "            },\n",
      "            \"url\": \"https://t.co/m2qxixtyKj\",\n",
      "            \"username\": \"narendramodi\",\n",
      "            \"verified\": true\n",
      "        }\n",
      "    ]\n",
      "}\n"
     ]
    }
   ],
   "source": [
    "user= \"narendramodi\"\n",
    "usernames = \"usernames=\"+user\n",
    "user_fields = \"user.fields=description,created_at,id,location,name,public_metrics,url,username,verified\"\n",
    "    # User fields are adjustable, options include:\n",
    "    # created_at, description, entities, id, location, name,\n",
    "    # pinned_tweet_id, profile_image_url, protected,\n",
    "    # public_metrics, url, username, verified, withheld\n",
    "url = \"https://api.twitter.com/2/users/by?{}&{}\".format(usernames, user_fields)\n",
    "print(url)\n",
    "def bearer_oauth(r):\n",
    "    \"\"\"\n",
    "    Method required by bearer token authentication.\n",
    "    \"\"\"\n",
    "\n",
    "    r.headers[\"Authorization\"] = f\"Bearer {bearer_token}\"\n",
    "    r.headers[\"User-Agent\"] = \"v2UserLookupPython\"\n",
    "    return r\n",
    "\n",
    "def connect_to_endpoint(url):\n",
    "    response = requests.request(\"GET\", url, auth=bearer_oauth,)\n",
    "    print(response.status_code)\n",
    "    if response.status_code != 200:\n",
    "        raise Exception(\n",
    "            \"Request returned an error: {} {}\".format(\n",
    "                response.status_code, response.text\n",
    "            )\n",
    "        )\n",
    "    return response.json()\n",
    "\n",
    "\n",
    "json_response = connect_to_endpoint(url)\n",
    "response=json.dumps(json_response, indent=4, sort_keys=True)\n",
    "print(response)"
   ]
  },
  {
   "cell_type": "code",
   "execution_count": 5,
   "metadata": {},
   "outputs": [
    {
     "name": "stdout",
     "output_type": "stream",
     "text": [
      "Name:  Narendra Modi\n",
      "Username:  narendramodi\n",
      "Description:  Prime Minister of India\n",
      "Location:  India\n",
      "URL:  https://t.co/m2qxixtyKj\n",
      "Created at:  2009-01-10T17:18:56.000Z\n",
      "ID:  18839785\n",
      "Public Metrics: \n",
      "\tFollowers:  97394496\n",
      "\tFollowing:  2665\n",
      "\tTweets:  41411\n",
      "\tListed:  30671\n",
      "\tlikes:  0\n",
      "Verified:  True\n"
     ]
    }
   ],
   "source": [
    "response = json_response['data'][0]\n",
    "print(\"Name: \", response['name'])\n",
    "print(\"Username: \", response['username'])\n",
    "print(\"Description: \", response['description'])\n",
    "print(\"Location: \", response['location'])   \n",
    "print(\"URL: \", response['url'])\n",
    "print(\"Created at: \", response['created_at'])\n",
    "print(\"ID: \", response['id'])   \n",
    "id=response['id']\n",
    "print(\"Public Metrics: \")   #response['public_metrics']\n",
    "print(\"\\tFollowers: \", response['public_metrics']['followers_count'])\n",
    "print(\"\\tFollowing: \", response['public_metrics']['following_count'])\n",
    "print(\"\\tTweets: \", response['public_metrics']['tweet_count'])\n",
    "print(\"\\tListed: \", response['public_metrics']['listed_count'])\n",
    "print(\"\\tlikes: \", response['public_metrics']['like_count'])                 \n",
    "print(\"Verified: \", response['verified'])"
   ]
  },
  {
   "cell_type": "code",
   "execution_count": 6,
   "metadata": {},
   "outputs": [],
   "source": [
    "# Authenticate with Twitter API\n",
    "client = tweepy.Client(bearer_token=bearer_token)"
   ]
  },
  {
   "cell_type": "code",
   "execution_count": 7,
   "metadata": {},
   "outputs": [],
   "source": [
    "response=client.get_users_tweets(id=18839785, max_results=5,\n",
    "                #tweet_fields='created_at')\n",
    "                tweet_fields='created_at,edit_history_tweet_ids,entities,geo,id,lang,possibly_sensitive,public_metrics,source,text')"
   ]
  },
  {
   "cell_type": "code",
   "execution_count": 8,
   "metadata": {},
   "outputs": [
    {
     "data": {
      "text/plain": [
       "Response(data=[<Tweet id=1782328628639899959 text='इस चुनाव में अलीगढ़ के मेरे परिवारजन कांग्रेस और इंडी गठबंधन की दुकान पर हमेशा के लिए ताला लगाने का मन बना चुके हैं। यहां जनसभा में आशीर्वाद देने आई जनता-जनार्दन का मैं सिर झुकाकर वंदन करता हूं।\\n\\nhttps://t.co/nsOXTlv86r'>, <Tweet id=1782307919314223146 text=\"India is exceptionally proud of @DGukesh on becoming the youngest-ever player to win the #FIDECandidates! \\n\\nGukesh's remarkable achievement at the Candidates in Toronto showcases his extraordinary talent and dedication. \\n\\nHis outstanding performance and journey to the top… https://t.co/DsMnysbtwI https://t.co/pfNhhRj7W2\">, <Tweet id=1782306072683786298 text='On Earth Day, we reaffirm our commitment to nurture nature so that our planet can have a better future. https://t.co/4UGzjWvy3w'>, <Tweet id=1782083034050974181 text='बांसवाड़ा की रैली में उमड़ा जनसैलाब कांग्रेस और इंडी गठबंधन के होश उड़ाने वाला है। https://t.co/CbXWwOki7y'>, <Tweet id=1782081555889848787 text='कांग्रेस की अर्बन नक्सल सोच की नजर अब मेरी माताओं-बहनों के मंगलसूत्र पर है। क्या ऐसी कांग्रेस पर मेरे परिवारजन कभी भरोसा करेंगे। https://t.co/sdPRObgbha'>], includes={}, errors=[], meta={'result_count': 5, 'newest_id': '1782328628639899959', 'oldest_id': '1782081555889848787', 'next_token': '7140dibdnow9c7btw483gonflshkklu1b6dbgtywy2r7b'})"
      ]
     },
     "execution_count": 8,
     "metadata": {},
     "output_type": "execute_result"
    }
   ],
   "source": [
    "#response=json.dumps(response, indent=4, sort_keys=True)\n",
    "response"
   ]
  },
  {
   "cell_type": "code",
   "execution_count": 9,
   "metadata": {},
   "outputs": [
    {
     "name": "stdout",
     "output_type": "stream",
     "text": [
      "Tweet:  1\n",
      "ID:  1782328628639899959\n",
      "Text:  In this election, my family members of Aligarh have made up their mind to lock the Congress and Indie alliance forever.Here, I bow my head and worship the people who came to bless the public meeting.\n",
      "\n",
      "https://t.co/nsoxtlv86r\n",
      "Tweet:  2\n",
      "ID:  1782307919314223146\n",
      "Text:  India is exceptionally proud of @DGukesh on becoming the youngest-ever player to win the #FIDECandidates! \n",
      "\n",
      "Gukesh's remarkable achievement at the Candidates in Toronto showcases his extraordinary talent and dedication. \n",
      "\n",
      "His outstanding performance and journey to the top… https://t.co/DsMnysbtwI https://t.co/pfNhhRj7W2\n",
      "Tweet:  3\n",
      "ID:  1782306072683786298\n",
      "Text:  On Earth Day, we reaffirm our commitment to nurture nature so that our planet can have a better future. https://t.co/4UGzjWvy3w\n",
      "Tweet:  4\n",
      "ID:  1782083034050974181\n",
      "Text:  The people who gathered at the Banswara rally are going to blow the senses of the Congress and the Indie alliance.https://t.co/cbxwwoki7y\n",
      "Tweet:  5\n",
      "ID:  1782081555889848787\n",
      "Text:  The Congress' urban Naxal thinking is now on the mangalsutra of my mothers and sisters.Will my family ever trust such Congress?https://t.co/SDProbgbha\n"
     ]
    }
   ],
   "source": [
    "for i in range(len(response.data)):\n",
    "    tweet=response.data[i]\n",
    "    print(\"Tweet: \", i+1)\n",
    "    print(\"ID: \", tweet['id'])\n",
    "    print(\"Text: \", translate_text(tweet['text']))\n",
    "#translate_text(response.data[0].text)"
   ]
  },
  {
   "cell_type": "code",
   "execution_count": 59,
   "metadata": {},
   "outputs": [
    {
     "name": "stdout",
     "output_type": "stream",
     "text": [
      "Current Date: 2024-04-22\n",
      "Date before 6 months: 2024-03-23\n"
     ]
    }
   ],
   "source": [
    "from datetime import datetime, timedelta\n",
    "\n",
    "# Get the current date\n",
    "current_date = datetime.now().date()\n",
    "print(\"Current Date:\", current_date)\n",
    "n=1\n",
    "# Calculate the date before 6 months\n",
    "six_months_ago = current_date - timedelta(days=n*30)\n",
    "print(\"Date before 6 months:\", six_months_ago)\n"
   ]
  },
  {
   "cell_type": "code",
   "execution_count": 10,
   "metadata": {},
   "outputs": [
    {
     "name": "stdout",
     "output_type": "stream",
     "text": [
      "Header and data written to the CSV file successfully.\n"
     ]
    }
   ],
   "source": [
    "import csv\n",
    "\n",
    "header = ['Tweet_id','Text']\n",
    "\n",
    "file_path = r'C:\\Users\\Mugun\\Desktop\\Twitter_data.csv'    #Provide the file path\n",
    "\n",
    "with open(file_path, mode='w', newline='') as file:\n",
    "    writer = csv.writer(file)\n",
    "    writer.writerow(header)\n",
    "\n",
    "    for i in range(len(response.data)):\n",
    "        tweet=response.data[i]\n",
    "        writer.writerow([tweet['id'],translate_text(tweet['text'])])  \n",
    "\n",
    "print('Header and data written to the CSV file successfully.')\n"
   ]
  }
 ],
 "metadata": {
  "kernelspec": {
   "display_name": "Python 3",
   "language": "python",
   "name": "python3"
  },
  "language_info": {
   "codemirror_mode": {
    "name": "ipython",
    "version": 3
   },
   "file_extension": ".py",
   "mimetype": "text/x-python",
   "name": "python",
   "nbconvert_exporter": "python",
   "pygments_lexer": "ipython3",
   "version": "3.9.6"
  }
 },
 "nbformat": 4,
 "nbformat_minor": 2
}
