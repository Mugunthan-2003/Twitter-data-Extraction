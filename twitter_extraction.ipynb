{
 "cells": [
  {
   "cell_type": "code",
   "execution_count": null,
   "metadata": {},
   "outputs": [],
   "source": [
    "%pip install tweepy\n",
    "%pip install googletrans==4.0.0-rc1"
   ]
  },
  {
   "cell_type": "code",
   "execution_count": 2,
   "metadata": {},
   "outputs": [],
   "source": [
    "import requests\n",
    "import json\n",
    "import tweepy\n",
    "from googletrans import Translator\n",
    "from datetime import datetime\n",
    "from dateutil.relativedelta import relativedelta\n",
    "import csv"
   ]
  },
  {
   "cell_type": "code",
   "execution_count": 4,
   "metadata": {},
   "outputs": [
    {
     "name": "stdout",
     "output_type": "stream",
     "text": [
      "narendramodi ==> 18839785\n"
     ]
    }
   ],
   "source": [
    "def translate_text(text, target_language=\"en\"):\n",
    "    \"\"\" This function is used to convert text to the target language\n",
    "        in default it is set to english .\n",
    "\n",
    "    Parameters:\n",
    "        text(string): The text to be translated.\n",
    "        target_language(string, optional): The language to which the text is to be translated. Defaults to english-\"en\".\n",
    "\n",
    "    Returns:\n",
    "        string : The translated text in english language .\n",
    "    \"\"\"\n",
    "    translator = Translator() #creating an object of Translator class\n",
    "    result = translator.translate(text, dest=target_language) #translating the text to the target language\n",
    "    return result.text\n",
    "\n",
    "def bearer_oauth(r):\n",
    "    \"\"\" This function is used to set the authorization header for the request.\n",
    "\n",
    "    Parameters:\n",
    "        r : The request object.\n",
    "    \"\"\"\n",
    "\n",
    "    r.headers[\"Authorization\"] = f\"Bearer {bearer_token}\" #setting the authorization header\n",
    "    r.headers[\"User-Agent\"] = \"v2UserLookupPython\" #setting the user agent\n",
    "    return r\n",
    "\n",
    "def connect_to_endpoint(url):\n",
    "    \"\"\" This function is used to connect to the endpoint and get the response.\n",
    "\n",
    "    Parameters:\n",
    "        url (string): The url of the endpoint.\n",
    "\n",
    "    Raises:\n",
    "        Exception: If the request returns an error.\n",
    "\n",
    "    Returns:\n",
    "        json : The response of the request in json format.\n",
    "    \"\"\"\n",
    "    response = requests.request(\"GET\", url, auth=bearer_oauth,) #making a get request to the endpoint\n",
    "    if response.status_code != 200: #checking if the response is successful\n",
    "        raise Exception(\n",
    "            \"Request returned an error: {} {}\".format(\n",
    "                response.status_code, response.text\n",
    "            )\n",
    "        )\n",
    "        \n",
    "    #returning the response in json format\n",
    "    return response.json()\n"
   ]
  },
  {
   "cell_type": "code",
   "execution_count": null,
   "metadata": {},
   "outputs": [],
   "source": [
    "def Extract_tweet(username, total, n, date):\n",
    "    \"\"\"This function extracts the tweets from the recent date of the given \n",
    "        username and stores it in a csv file.\n",
    "\n",
    "    Parameters:\n",
    "        username(string): Username of the twitter account\n",
    "        total(integer): Total number of tweets to be extracted\n",
    "        n(integer): No.of months from the recent date\n",
    "        date(date): Recent date of the tweet extraction(YYYY-MM-DD)\n",
    "        \n",
    "    returns:\n",
    "        string: The status of the extraction process\n",
    "    \"\"\"\n",
    "    \n",
    "    # Add username to the url\n",
    "    usernames = \"usernames=\"+username \n",
    "    user_fields = \"user.fields=description,created_at,id,location,name,public_metrics,url,username,verified\" \n",
    "    \n",
    "    # Request URL\n",
    "    url = \"https://api.twitter.com/2/users/by?{}&{}\".format(usernames, user_fields)\n",
    "    json_response = connect_to_endpoint(url) #Connect to the endpoint\n",
    "    response=json.dumps(json_response, indent=4, sort_keys=True) #Convert the response to json format\n",
    "    if(\"errors\" in response): #Check for invalid username\n",
    "        print(\"Invalid Username\")\n",
    "        return \"Invalid Username\"\n",
    "    else:\n",
    "        print(response)\n",
    "        id=json_response['data'][0]['id'] #Extracting the user id\n",
    "        print(\"{} ==> {}\".format(user,id))\n",
    "\n",
    "    print(\"Authentication Successful\")\n",
    "    \n",
    "    # Create a client to access the Twitter API\n",
    "    client = tweepy.Client(bearer_token=bearer_token)\n",
    "\n",
    "    # Get the recent date and the date n months ago\n",
    "    recent_date= datetime.strptime(date, \"%Y-%m-%d\")\n",
    "    old_date=recent_date-relativedelta(months=n)\n",
    "\n",
    "    # Formatting the date in format required by the API\n",
    "    recent_formatted= recent_date.strftime(\"%Y-%m-%dT%H:%M:%SZ\")\n",
    "    old_formatted= old_date.strftime(\"%Y-%m-%dT%H:%M:%SZ\")\n",
    "\n",
    "    print(\"Recent Date: \",recent_formatted)\n",
    "    print(\"Old Date: \",old_formatted)\n",
    "\n",
    "    header = ['Tweet_id','Text'] #Header of the csv file\n",
    "    #Provide the file path to store the extracted data\n",
    "    file_path = r'C:\\Users\\Mugun\\Desktop\\Twitter_data.csv'    \n",
    "    with open(file_path, mode='w', newline='', encoding='utf-8') as file:\n",
    "        writer = csv.writer(file)\n",
    "        writer.writerow(header)\n",
    "        for response in tweepy.Paginator(client.get_users_tweets,id=id, max_results=100,\n",
    "                                         tweet_fields=\"created_at\",\n",
    "                                         start_time=old_formatted,  \n",
    "                                         end_time=recent_formatted,\n",
    "                                         limit=total//100):     # Extracting the tweets via pagination\n",
    "            for i in range(len(response.data)):\n",
    "                tweet=response.data[i] #Extracting the tweet\n",
    "                writer.writerow([tweet['id'],translate_text(tweet['text'])]) #Writing the tweet to the csv file\n",
    "\n",
    "    print(\"Data Extraction Successful\")\n",
    "    return \"Data Extraction Successful\""
   ]
  },
  {
   "cell_type": "code",
   "execution_count": null,
   "metadata": {},
   "outputs": [],
   "source": [
    "bearer_token=\"AAAAAAAAAAAAAAAAAAAAAOzDswEAAAAAIaN7v%2BhnmAybrW4rIefJK3usOqc%3D5AtyjzHTxtZ1PR26j4vH9fNchne4ienJLBLRZypdihUOtldSEz\"\n",
    "user= \"narendramodi\"\n",
    "total=5\n",
    "n=6\n",
    "date = '2024-03-20'\n",
    "Extract_tweet(user, total, n, date)"
   ]
  }
 ],
 "metadata": {
  "kernelspec": {
   "display_name": "Python 3",
   "language": "python",
   "name": "python3"
  },
  "language_info": {
   "codemirror_mode": {
    "name": "ipython",
    "version": 3
   },
   "file_extension": ".py",
   "mimetype": "text/x-python",
   "name": "python",
   "nbconvert_exporter": "python",
   "pygments_lexer": "ipython3",
   "version": "3.9.6"
  }
 },
 "nbformat": 4,
 "nbformat_minor": 2
}
