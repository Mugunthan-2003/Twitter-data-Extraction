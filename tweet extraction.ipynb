{
 "cells": [
  {
   "cell_type": "code",
   "execution_count": null,
   "metadata": {},
   "outputs": [],
   "source": [
    "%pip install tweepy"
   ]
  },
  {
   "cell_type": "code",
   "execution_count": null,
   "metadata": {},
   "outputs": [],
   "source": [
    "#Twitter Credentials\n",
    "\n",
    "consumer_key = 'x9EqrJLNlugbXZrCB96vPSx2b'\n",
    "consumer_secret = 'KiGRY7vmLru0uaZ4I89XL0JIisjf1L6gttZMYFbR6sAHWeOhii'\n",
    "access_token = '1768293357736927232-lDrXLOB8WjmMDlS4C17GXbjVA372Gg'\n",
    "access_token_secret = 'SdpnvJql6ihjIhxVzCb8Doyj0D0RPhkCrl8g7vLi6WyWm'\n",
    "bearer_token=\"AAAAAAAAAAAAAAAAAAAAAOzDswEAAAAAEclTm5%2FZAIcVsCkAf8n6tVpmofQ%3DCMzdudSHCAnZBbQimuYkgNc8VkzmnEtmB9l9cmuLrwjJbLbRKP\"\n",
    "print(bearer_token)"
   ]
  },
  {
   "cell_type": "code",
   "execution_count": null,
   "metadata": {},
   "outputs": [],
   "source": [
    "#program to check if a username exists in twitter\n",
    "\n",
    "import tweepy\n",
    "import tweepy.errors\n",
    "\n",
    "# Authenticate with Twitter API\n",
    "client = tweepy.Client(bearer_token=bearer_token)\n",
    "\n",
    "def fetch_user_details(username):\n",
    "    try:\n",
    "        user = client.get_user(username=username)\n",
    "        return user\n",
    "    except tweepy.errors.Unauthorized as e:\n",
    "        print(f\"Unauthorized access: {e}\")\n",
    "    except tweepy.errors.NotFound as e:\n",
    "        print(f\"User not found: {e}\")\n",
    "    except tweepy.errors.TwitterServerError as e:\n",
    "        print(f\"Error retrieving user details: {e}\")\n",
    "    return None\n",
    "\n",
    "username = 'narendramodi'  # Replace 'TwitterUsername' with the actual Twitter username\n",
    "user = fetch_user_details(username)\n",
    "if user is not None:\n",
    "    print(f\"User Details for {username}:\")\n",
    "    print(f\"Name: {user.data.name}\")\n",
    "    print(f\"Description: {user.data.description}\")\n",
    "    print(f\"Location: {user.data.location}\")\n",
    "    print(f\"Tweetid: {user.data.pinned_tweet_id}\")\n",
    "    if user.data.public_metrics:\n",
    "        print(f\"Followers Count: {user.data.public_metrics['followers_count']}\")\n",
    "    else:\n",
    "        print(\"Followers count not available\")\n",
    "    if user.data.public_metrics:\n",
    "        print(f\"Friends Count: {user.data.public_metrics['following_count']}\")\n",
    "    else:\n",
    "        print(\"Friends count not available\")\n",
    "else:\n",
    "    print(f\"User '{username}' not found.\")\n"
   ]
  },
  {
   "cell_type": "code",
   "execution_count": null,
   "metadata": {},
   "outputs": [],
   "source": [
    "import tweepy\n",
    "\n",
    "# Authenticate with Twitter API\n",
    "auth = tweepy.OAuthHandler(consumer_key, consumer_secret)\n",
    "auth.set_access_token(access_token, access_token_secret)\n",
    "\n",
    "# Create API object\n",
    "api = tweepy.API(auth)\n"
   ]
  },
  {
   "cell_type": "code",
   "execution_count": null,
   "metadata": {},
   "outputs": [],
   "source": [
    "target_username = 'narendramodi'  # Replace 'USERNAME' with the actual Twitter username\n",
    "# Retrieve user's tweets\n",
    "tweets = api.user_timeline(screen_name=target_username, count=1)  # Retrieve 10 most recent tweets\n",
    "\n",
    "# Print the tweets\n",
    "for tweet in tweets:\n",
    "    print(f\"Tweet ID: {tweet.id} - Created at: {tweet.created_at}\\n{tweet.text}\\n\")"
   ]
  }
 ],
 "metadata": {
  "kernelspec": {
   "display_name": "Python 3",
   "language": "python",
   "name": "python3"
  },
  "language_info": {
   "name": "python",
   "version": "3.9.6"
  }
 },
 "nbformat": 4,
 "nbformat_minor": 2
}
