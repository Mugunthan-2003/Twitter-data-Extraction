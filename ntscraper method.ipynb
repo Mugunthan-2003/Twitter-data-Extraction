{
 "cells": [
  {
   "cell_type": "code",
   "execution_count": null,
   "metadata": {},
   "outputs": [],
   "source": [
    "%pip install googletrans==4.0.0-rc1\n",
    "%pip install ntscraper"
   ]
  },
  {
   "cell_type": "code",
   "execution_count": 2,
   "metadata": {},
   "outputs": [],
   "source": [
    "from ntscraper import Nitter\n",
    "from googletrans import Translator"
   ]
  },
  {
   "cell_type": "code",
   "execution_count": 3,
   "metadata": {},
   "outputs": [
    {
     "name": "stdout",
     "output_type": "stream",
     "text": [
      "Hello how are you?\n"
     ]
    }
   ],
   "source": [
    "def translate_text(text, target_language=\"en\"):\n",
    "    translator = Translator()\n",
    "    result = translator.translate(text, dest=target_language)\n",
    "    return result.text\n",
    "\n",
    "text = \"नमस्ते, क्या हाल है?\"\n",
    "translated_text = translate_text(text)\n",
    "print(translated_text)"
   ]
  },
  {
   "cell_type": "code",
   "execution_count": 9,
   "metadata": {},
   "outputs": [
    {
     "name": "stderr",
     "output_type": "stream",
     "text": [
      "Testing instances:  13%|█▎        | 10/77 [00:20<02:43,  2.45s/it]"
     ]
    },
    {
     "name": "stdout",
     "output_type": "stream",
     "text": [
      "17-Apr-24 22:31:46 - Certificate did not match expected hostname: nitter.nl. Certificate: {'subject': ((('commonName', 'invidious.nl'),),), 'issuer': ((('countryName', 'US'),), (('organizationName', \"Let's Encrypt\"),), (('commonName', 'R3'),)), 'version': 3, 'serialNumber': '0324F83ECE64674709BEC8F5D3FE821FBD5E', 'notBefore': 'Apr  5 09:03:34 2024 GMT', 'notAfter': 'Jul  4 09:03:33 2024 GMT', 'subjectAltName': (('DNS', 'invidious.nl'), ('DNS', 'www.invidious.nl')), 'OCSP': ('http://r3.o.lencr.org',), 'caIssuers': ('http://r3.i.lencr.org/',)}\n"
     ]
    },
    {
     "name": "stderr",
     "output_type": "stream",
     "text": [
      "Testing instances:  92%|█████████▏| 71/77 [02:03<00:08,  1.40s/it]"
     ]
    },
    {
     "name": "stdout",
     "output_type": "stream",
     "text": [
      "17-Apr-24 22:33:28 - Certificate did not match expected hostname: nt.ggtyler.dev. Certificate: {'subject': ((('commonName', '4g.ggtyler.dev'),),), 'issuer': ((('countryName', 'US'),), (('organizationName', \"Let's Encrypt\"),), (('commonName', 'R3'),)), 'version': 3, 'serialNumber': '048FA3D68DCD65927A6C57C2A3C9C1F8CA14', 'notBefore': 'Mar 15 00:26:35 2024 GMT', 'notAfter': 'Jun 13 00:26:34 2024 GMT', 'subjectAltName': (('DNS', '4g.ggtyler.dev'),), 'OCSP': ('http://r3.o.lencr.org',), 'caIssuers': ('http://r3.i.lencr.org/',)}\n"
     ]
    },
    {
     "name": "stderr",
     "output_type": "stream",
     "text": [
      "Testing instances:  95%|█████████▍| 73/77 [02:04<00:03,  1.05it/s]"
     ]
    },
    {
     "name": "stdout",
     "output_type": "stream",
     "text": [
      "17-Apr-24 22:33:29 - Certificate did not match expected hostname: nitter.uni-sonia.com. Certificate: {'subject': ((('commonName', '*.xserver.jp'),),), 'issuer': ((('countryName', 'JP'),), (('stateOrProvinceName', 'OSAKA'),), (('localityName', 'OSAKA'),), (('organizationName', 'SecureCore'),), (('commonName', 'SecureCore RSA DV CA'),)), 'version': 3, 'serialNumber': 'BF71C31D26716FA7B20B958F0053B3ED', 'notBefore': 'Mar 31 00:00:00 2023 GMT', 'notAfter': 'Apr 30 23:59:59 2024 GMT', 'subjectAltName': (('DNS', '*.xserver.jp'), ('DNS', 'xserver.jp')), 'OCSP': ('http://ocsp.securecore-ca.com',), 'caIssuers': ('http://crt.securecore-ca.com/SecureCoreRSADVCA.crt',), 'crlDistributionPoints': ('http://crl.securecore-ca.com/SecureCoreRSADVCA.crl',)}\n"
     ]
    },
    {
     "name": "stderr",
     "output_type": "stream",
     "text": [
      "Testing instances: 100%|██████████| 77/77 [02:10<00:00,  1.69s/it]"
     ]
    },
    {
     "name": "stdout",
     "output_type": "stream",
     "text": [
      "17-Apr-24 22:33:35 - No instance specified, using random instance https://nitter.esmailelbob.xyz\n"
     ]
    },
    {
     "name": "stderr",
     "output_type": "stream",
     "text": [
      "\n"
     ]
    },
    {
     "name": "stdout",
     "output_type": "stream",
     "text": [
      "17-Apr-24 22:33:43 - Current stats for narendramodi: 20 tweets, 0 threads...\n",
      "17-Apr-24 22:33:49 - Current stats for narendramodi: 39 tweets, 0 threads...\n",
      "17-Apr-24 22:33:54 - Current stats for narendramodi: 59 tweets, 0 threads...\n",
      "17-Apr-24 22:34:00 - Current stats for narendramodi: 79 tweets, 0 threads...\n",
      "17-Apr-24 22:34:05 - Current stats for narendramodi: 99 tweets, 0 threads...\n",
      "17-Apr-24 22:34:11 - Current stats for narendramodi: 119 tweets, 0 threads...\n",
      "17-Apr-24 22:34:16 - Current stats for narendramodi: 139 tweets, 0 threads...\n",
      "17-Apr-24 22:34:22 - Current stats for narendramodi: 159 tweets, 0 threads...\n",
      "17-Apr-24 22:34:27 - Current stats for narendramodi: 179 tweets, 0 threads...\n",
      "17-Apr-24 22:34:32 - Current stats for narendramodi: 199 tweets, 0 threads...\n",
      "17-Apr-24 22:34:38 - Current stats for narendramodi: 200 tweets, 0 threads...\n",
      "1 .  Anupam Day - Ram Navami Amazing Uses - Mail of technology and tradition unique presentation - Articles of top personalities with rare photos and pictures were presented to the country's fame Prime Minister Narendra Modi ji's first copy of the #Sabaram coffee table book.A book that you can read and listen in Hindi or English.#Sabkeram #Panchjanyaramnavmi\n",
      "2 .  India’s emphasis is on reform, perform and transform. Our approach to development is futuristic and is also aimed at building a better as well as more sustainable planet. @bjerde_anna https://indianexpress.com/article/opinion/columns/lessons-from-indias-alternate-development-plan-9274584/lite/\n",
      "3 .  That's why our government's Hira model for the development of Tripura is being discussed all over the country .....\n",
      "4 .  For the development of Tripura, our government's Hira model is therefore being discussed across the country…\n",
      "5 .  This is the guarantee of Modi for every 70 -year -old elder, including Tripura ...\n",
      "6 .  This is a guarantee of Modi for every elder of more than 70 years of the country including Tripura…\n",
      "7 .  In the sacred lane of Ramnavami, the sun's rays have become a symbol of the country's new manifestation today.\n",
      "8 .  On the auspicious occasion of Ramnavami, the rays of the sun have become a symbol of the new light of the country today.\n",
      "9 .  Thanks Agartala!Today's rally was spectacular, the Tripura and the BJP's strong bond.\n",
      "10 .  At Agartala's rally, the enthusiasm of its family members of Tripura is showing that the BJP's fierce victory in the state is fixed in the Lok Sabha elections.\n",
      "11 .  Tripura has witnessed pioneering transformations under the BJP Government. The state is set to bless us again. Watch from Agartala.   https://nitter.net/i/broadcasts/1MYxNopYzVLKw\n",
      "12 .  After my Nalbari rally, I watched the Surya Tilak on Ram Lalla. Like crores of Indians, this is a very emotional moment for me. The grand Ram Navami in Ayodhya is historic. May this Surya Tilak bring energy to our lives and may it inspire our nation to scale new heights of glory.\n",
      "13 .  After the meeting of Nalbari, I got the privilege of seeing the amazing and unmatched moment of Surya Tilak of Ramlala in Ayodhya.This much awaited moment of Shri Ram Janmabhoomi is a moment of ecstasy for everyone.This Sun Tilak will illuminate every resolution of developed India with its divine energy in this way.\n",
      "14 .  This is the first Ramnavami after the life of Ram Lala in the Divya-Bhavara Ram temple, in which the supernatural opportunity of Lord Shri Ram's Surya Tilak has also come.My urge to Ram devotees from all over the world is to become a witness to this amazing moment.\n",
      "15 .  Today our Ram has come!\n",
      "16 .  Today, when India is following the path of purity of tradition and infinity of modernity, I have a request to our youth power…\n",
      "17 .  After the life-prestige of Ram Lala, now this time is to take a pledge to build a capable and grand-divine India.\n",
      "18 .  The temple of Prabhu Shri Rama, synonymous with justice, was also built in a fair manner, for which I thank the judiciary of India.\n",
      "19 .  It is a result of the renunciation of countless Ram devotees and the culmination of penance that today Indians have witnessed this auspicious day.\n",
      "20 .  During the 11-day fasting-confidence, I tried to touch the holy sites where the feet of Lord Shri Ram were lying.\n",
      "21 .  This is the expansion of the consciousness of the country from the country and the nation from Rama…\n",
      "22 .  Ram is not a fire, Ram is energy.Ram is not a dispute, Ram is a solution.Ram is not just ours, Ram belongs to everyone.Rama is not only the present, Rama is eternity.\n",
      "23 .  The enthusiasm in Nalbari indicates the strong support for the NDA in Assam. Addressing a huge rally.  https://nitter.net/i/broadcasts/1YqJDgdjkQAGV\n",
      "24 .  I share my interview with @dinamalarweb @dinamalarweb, who talked about various topics and the vision for Tamil Nadu.https://www.dinamalar.com/news/tamil-nadu-news/-10-years-is-just-a-trailer --/3601865\n",
      "25 .  I pay homage to him on the birthday of Tiran Chinnamalai.He is remembered as the mighty warrior of the Indian independence struggle.His brave strategy and sharp strategy to oppose colonial domination are very inspiration.\n",
      "26 .  My respect for him on the victory of Sadguru Sri Siddhartha Swamiji.They are commemorated for the contributions of spiritual maturity, social harmony and the empowerment of the deprived.Their lives and actions are an example of a profound commitment to the welfare of all living things.He always highlighted the importance of unity and kindness.We are always working hard to fulfill their ideals.\n",
      "27 .  Sharing my interview with @dinamalarweb in which I have spoken about various subjects and also highlighted our vision for Tamil Nadu. https://www.dinamalar.com/news/tamil-nadu-news/-10-years-is-just-a-trailer--/3601865\n",
      "28 .  The people of the country want to see the resolve of developed India to be fulfilled, so she wants to go with the BJP.Read, amidst the Lok Sabha elections campaign, this interview given to the magazine… @RPBREAKINESNES https://www.patrika.com/national- newws-Crores-of-India-PM-modi-said-in-patrika-interview-18627902#Google_vignette\n",
      "29 .  Remembering our respected former PM Chandra Shekhar Ji on his birth anniversary. He was an exemplary leader, who rose from the grassroots and made rich contributions to national progress. He is remembered for his emphasis on serving the poor and downtrodden. He was also at the forefront of resisting the Emergency and safeguarding our democratic ideals.\n",
      "30 .  Tributes to Dheeran Chinnamalai on his Jayanti. He is remembered as a formidable stalwart of India's struggle for freedom. His exemplary bravery and strategic brilliance to fight colonial subjugation are very inspiring.\n",
      "31 .  I pay homage to Sadguru Shree Siddharoodha Swami on his Jayanti. He is remembered for his contributions to spiritual enlightenment, social harmony and empowering the marginalised. His life and work exemplify a deep commitment to the welfare of all beings. He always highlighted the importance of unity and compassion. We will always keep working to fulfil his ideals.\n",
      "32 .  Ram is the faith of India, Ram is the basis of India…\n",
      "33 .  The first Ram Navami after the Pran Pratishtha in Ayodhya is a generational milestone, weaving together centuries of devotion with a new era of hope and progress. This is a day crores of Indians waited for. Innumerable people devoted their lives to this sacred cause.   May the blessings of Prabhu Shri Ram always remain upon us and guide our paths towards righteousness and peace, illuminating our lives with wisdom and courage.\n",
      "34 .  I am confident that Maryada Purushottam will become a strong foundation for the life of Lord Shri Ram and the creation of his ideal developed India.His blessings will provide new energy to the resolve of self -sufficient India.Greetings and Vandan at the feet of Lord Shri Ram!\n",
      "35 .  Prabhu Shriram is composed in the Rome of the Bharatiya public, contained in the inner self.This opportunity of the first Ramnavami of the grand Ram temple is also to remember and salute those innumerable Ram devotees and saints, who dedicated their entire life to the construction of the Ram temple.\n",
      "36 .  This is the first Ramnavami when our Ram Lala has been seated in the grand and Divya Ram temple of Ayodhya.In this festival of Ramnavami, Ayodhya is in an unmatched bliss today.After waiting for 5 centuries, today we have got the privilege of celebrating this Ram Navami in Ayodhya.It is a success of so many years of hard penance, sacrifice and sacrifice of the countrymen.\n",
      "37 .  The infinite wishes of Ram Navami, the birth anniversary of Lord Shri Ram to my family members across the country!On this auspicious occasion, my mind is emotional and grateful.It is the ultimate grace of Shri Ram that this year, with my category countrymen, I witnessed my life and prestige in Ayodhya.The memories of that moment of Awadhpuri are still pulsed in my mind with the same energy.\n",
      "38 .  Squadron Leader Dalip Singh Majithia Ji’s exemplary career and valour exemplify the highest ideals of service and dedication to our country. His passing away is a profound loss to the Indian Air Force. His contribution will forever be a source of inspiration. Condolences to his family and admirers. May his soul rest in peace.\n",
      "39 .  Dwarakish Ji’s contributions to the film industry are immense, spanning decades of unforgettable performances and groundbreaking films. His ability to captivate audiences and support young talent gave a glimpse of his multifaceted role in shaping Kannada cinema. Saddened by his passing away. We will always remember his extraordinary journey. Condolences to his family and admirers. Om Shanti.\n",
      "40 .  After programmes in Bihar and West Bengal, landed to a euphoric welcome and roadshow in Guwahati. I thank the people of this vibrant city for the special welcome.\n",
      "41 .  Today every person in Bengal is saying this ....\n",
      "42 .  Bangla will never forgive the TMC for sin in Sandeshkhali.\n",
      "43 .  TMC has played Chinamini on the future of Bengal by raising his vote bank.\n",
      "44 .  TMC wants to keep West Bengal poor, so that their business is swollen.\n",
      "45 .  Those who run the government in Bengal, have kept the state a lot backward.But the BJP will not make any flaws for the development of Bengal.\n",
      "46 .  The inspiration of the great philosophers of the soil of Bengal is also a basis for the BJP's determination.\n",
      "47 .  Today every person of Bengal is saying the same thing…\n",
      "48 .  The Bengal, who worships Shakti, will never forgive TMC for the severe sin of messenger.\n",
      "49 .  TMC has put the future of Bengal at stake to increase its vote bank.\n",
      "50 .  TMC wants to keep West Bengal poor, so that its business keeps flourishing.\n",
      "51 .  Those running the government in Bengal have made the state far behind.But the BJP will leave no stone unturned for the development of Bengal.\n",
      "52 .  The inspiration of the great thinkers of the land of Bengal has also been a basis for the BJP's resolution.\n",
      "53 .  BJP is just everywhere in Raiganj!\n",
      "54 .  Today's pictures and scenes of Raiganj will take away the night's sleep of the Trinamool Congress.The people of West Bengal are rejecting their corruption, slander and misery!\n",
      "55 .  Come to Raiganj to understand the mood of West Bengal.The environment here is excited.Thanks to all those who have come here to bless us.\n",
      "56 .  It’s BJP all the way in Raiganj!\n",
      "57 .  Today’s visuals and images from Raiganj will give sleepless nights to TMC. Their corruption, cronyism and bullying are being REJECTED by the people of West Bengal!\n",
      "58 .  To gauge the mood of West Bengal, come here to Raiganj. The atmosphere is euphoric. Thankful to all those who came to bless us.\n",
      "59 .  West Bengal's anger against TMC, Congress and Left is clearly visible. Come to Raiganj to witness the enthusiasm for the BJP. https://nitter.net/i/broadcasts/1gqxvQpAYrQJB\n",
      "60 .  I want to tell those who didn’t achieve the desired success in the Civil Services Examination- setbacks can be tough, but remember, this isn't the end of your journey. There are chances ahead to succeed in Exams, but beyond that, India is rich with opportunities where your talents can truly shine. Keep striving and exploring the vast possibilities ahead. Wishing you all the very best.\n",
      "61 .  I congratulate all those who have successfully cleared the Civil Services Examination, 2023. Their hard work, perseverance and dedication has paid off, marking the start of a promising career in public service. Their efforts will shape the future of our nation in the times to come. My best wishes to them.\n",
      "62 .  There is unprecedented enthusiasm among the third innings of the NDA among my family members from all over Bihar, including Purnia, which is telling the Modi government once again!\n",
      "63 .  The NDA has taken Bihar out of Mahajangal Raj very hardly.People here will never want to return to that era.\n",
      "64 .  Those who do vote bank politics made Purnia and Seemanchal a hideout of illegal infiltration, but I assure this…\n",
      "65 .  In the last 10 years, we have also completed the work considered impossible.So today everyone is saying that the power of big works is only in BJP and NDA.\n",
      "66 .  People of Congress and Indie alliance have started threatening to reject the election results from the constitutional system.So it is important…\n",
      "67 .  I can never forget in Gaya ji's land and immense public support.\n",
      "68 .  There's unparalleled support for the BJP across West Bengal. People have decided to reject TMC's culture of loot and corruption. Addressing a huge rally in Balurghat.   https://nitter.net/i/broadcasts/1yoKMwkYmojJQ\n",
      "69 .  Constitution will be a tactic of politics for the Congress and Indie alliance, but for us it is a sacred book of reverence and faith.No one can change it.\n",
      "70 .  RJD has given only two things to Bihar- Jungle Raj and Corruption!In the era of smart phones, smart youths of Bihar will never go with Jungle Raj people.\n",
      "71 .  People of Bihar know that this election is not the party but the election of the country.Today, on the one hand, we are proud of the culture of the country, on the other hand we are people who degrade our faith.\n",
      "72 .  Our agenda has both development and inheritance.Along with the rapid development of Gaya, this city has also been included in the 12 ancient historical heritage of the country under the Prasad Yojana.\n",
      "73 .  Two days ago, BJP has released its resolution letter.This is the first time that a party's resolution letter is being called a guarantee card.\n",
      "74 .  In Purnia, it is clear from the enthusiasm of the public and public that the NDA is going to wave the victory flag this time in the whole of Bihar.https://nitter.net/i/broadcasts/1zkkzjvolpakv\n",
      "75 .  The NDA has worked hard to take Bihar out of Jungle Raj.I am addressing a huge public meeting on Gaya's holy earth.https://nitter.net/i/broadcast/1yqkdgdoalnxv\n",
      "76 .  The land of Bihar, the mother of democracy, has decided to give BJP-NDA an unprecedented victory in this Lok Sabha election.Today, once again there will be an opportunity to live among your family members here.In Gaya, I will get the affection and blessings of Janata-Janardan at Purnia's public meeting at around 10:15 am and around 12:45 pm.\n",
      "77 .  I have a humble urge to the taxpayers of the country for 'developed India'…\n",
      "78 .  This is the success of electoral bonds that this led to transparency in transactions.\n",
      "79 .  I will never allow any hindrance in the development of a state, because I have to make a country.\n",
      "80 .  The construction of the grand Ram temple in Ayodhya is the result of the resolve of my category families of the country.It is going to give great inspiration to the future generations of India.\n",
      "81 .  Pran goes but do not promise, we are people from this great tradition and my guarantee is associated with this feeling.\n",
      "82 .  How to fulfill the dream of every family is in my heart.So I have to do a lot for my family across the country.\n",
      "83 .  In the 2024 election, there are two models in front of the country- one of BJP and the other of Congress.If we compare both, the difference will be visible.\n",
      "84 .  Wishing my families across the country a very happy Maha Ashtami Puja.Maa Mahagauri, the intellect of Durga Ashtami, bring happiness, peace and prosperity in the lives of all of you.\n",
      "85 .  It’s NDA all the way in Tamil Nadu!\n",
      "86 .  Tamil Nadu is suffering due to dynastic parties and misgovernance.\n",
      "87 .  We will keep working towards Tamil Nadu’s economic progress and towards celebrating the local culture.\n",
      "88 .  Tamil Nadu’s Nari Shakti is blessing us immensely.\n",
      "89 .  Glad to campaign in Attingal today.The support of the people of the LDF and the UDF is growing in the event of the people of Kerala and corruption.\n",
      "90 .  The LDF and the UDF were ruled over the years, but the water crisis in Kerala has not been able to address the water crisis.Our party assures this to resolve this not settled.\n",
      "91 .  LDF and UDF have lost credibility to rule.\n",
      "92 .  Our imaginement is an extensive perspective for stimulation to the coastal economy.\n",
      "93 .  Glad to have campaigned in Attingal earlier today. Support for the NDA is increasing as people of Kerala are fed up of the misgovernance and corruption of LDF and UDF.\n",
      "94 .  Years of LDF and UDF rule has not been able to solve the water crisis in Kerala. Our Party assures a solution to this pending challenge.\n",
      "95 .  LDF and UDF have lost the credibility to govern.\n",
      "96 .  Our Sankalp Patra has an extensive vision to boost the coastal economy.\n",
      "97 .  My interview to @ANI. https://nitter.net/i/broadcasts/1lPKqbngeqeGb\n",
      "98 .  Campaigning in Tirunelveli. Family-run parties have tarnished Tamil Nadu's progress with corruption and scams. The people of Tamil Nadu are backing the NDA's good governance. https://nitter.net/i/broadcasts/1OyKAWNXOQDJb\n",
      "99 .  CPM was robbed from the co-operative sector.They do not respect the people.\n",
      "100 .  UDF and LDF are developed and developing developer attitudes.\n",
      "101 .  Our government has always worked to achieve the ideals of Sri Narayana Guru.\n",
      "102 .  Development activities of the last ten years are just trailer.There is a lot of things to do.\n",
      "103 .  These are glimpses from today's massive rally at Alathur. The blessings I have received from people in Kerala is unparalleled and give me the strength to work harder for their well-being.\n",
      "104 .  CPM has looted from the cooperatives sector. They have no respect for the people's sentiments.\n",
      "105 .  UDF and LDF are anti-development and regressive in nature.\n",
      "106 .  Our Government has always worked to fulfil the ideals of Sree Narayana Guru.\n",
      "107 .  The development works in the last ten years has just been the trailer. There is a lot to do in the times to come.\n",
      "108 .  The voters of Kerala are supporting NDA's development agenda. Addressing a huge rally in Attingal. Do watch. https://nitter.net/i/broadcasts/1ynJOyAvDkyKR\n",
      "109 .  Politics of Kerala is seeing a major shift. People no longer support the LDF and UDF. Watch from Alathur.  https://nitter.net/i/broadcasts/1djxXNdjknjGZ\n",
      "110 .  The roadshow in Mangaluru was memorable! Here are highlights from yesterday…\n",
      "111 .  This is the wish of positive energy in everyone's life by the grace of Maa Kalratri.\n",
      "112 .  The public meeting in Mysuru was phenomenal. The support for @BJP4Karnataka and @JanataDal_S across all parts of Karnataka is remarkable. People are fed up of Congress and want our alliance to win. It was very special that our former PM and respected statesman @H_D_Devegowda JI came for the rally and shared his thoughts.\n",
      "113 .  Dakshina Kannada cannot vote for the Congress, which is immersed in vote bank politics.The Congress government of Karnataka is engaged in grouping, plundering public money and stagnating development.They have no understanding of the culture of Karnataka.\n",
      "114 .  There are plenty of interesting aspects for the development of Mangalore in a letter we released today.Especially through urban development, we do a \"smooth life\" and do other work.The vision represented in fields such as fishing converts the coastal economy.\n",
      "115 .  In our third period, there is an even more work to be done in improving the aspects of future education and the protection of the health sector in a better way in this area.We want to work in the blue revolution so that fishermen will be promoted.Similarly, we need to work on developing tourism so that this part of Karnataka will help to see this part of Karnataka.\n",
      "116 .  The work I recently inaugurated and performed by the inscription will improve the quality of life of the people.This includes the Kochi - Mangalore pipeline project.In the coming days, infrastructure will be modernized for the airport, railway station and harbor sector.\n",
      "117 .  In the last decade, our government has done a lot of work in the Dakshina Kannada field.Transportation, Port Development, Fisheries and Empowerment of Women Fishermen, Fuel, Health and other sectors have been worked.The emphasis on our economic reforms is beneficial for many people who are known for their entrepreneurial attitude.\n",
      "118 .  My thanks to the people of Mangalore and Dakshina Kannada Lok Sabha constituencies who participated in a record number at a road show in Mangalore.There is a strong rapport between this part of Karnataka and our party.The people have blessed us for years for our theory of good governance and our efforts to protect and celebrate our ancient culture.\n",
      "119 .  Dakshina Kannada cannot afford to vote for Congress, which is immersed in vote bank politics and dividing people. The Congress government in Karnataka is busy in factionalism, looting public money and stalling development. They also have no understanding of Karnataka’s culture.\n",
      "120 .  Our Sankalp Patra, which was released today, has a lot of interesting points which will boost development of Mangaluru, especially in areas like urban development, ‘Ease of Living’ and more. The vision presented in sectors like fisheries will transform the coastal economy.\n",
      "121 .  In our third term, there is even more work to be done in improving aspects relating to futuristic education and even better healthcare in the region. We want to work on the Blue Revolution so that fisheries receive a boost. Likewise, we want to work on improving tourism so that a lot more people can see this part of Karnataka.\n",
      "122 .  In the recent past, I have inaugurated and laid the foundation stone for key works that will boost the quality of life here. This includes the Kochi-Mangaluru pipeline. The airport, railway station and port related infrastructure are going to be modernised even further in the times to come.\n",
      "123 .  In the last decade our Government has done a lot of work in the Dakshina Kannada constituency. The focus of these works have been transportation, port development, fishermen and fisherwomen empowerment, energy, healthcare and more. Our emphasis on economic reforms has benefitted many people here, who are known for their entrepreneurial spirit.\n",
      "124 .  My gratitude to the people of Mangaluru and Dakshina Kannada Parliamentary constituency for turning out in record numbers during today’s roadshow. This part of Karnataka and our Party have a very strong bond. People have blessed us for years, as they relate to our ideology of good governance and our efforts in preserving as well as celebrating our ancient culture.\n",
      "125 .  We still have to take the entire country including Hoshangabad and Madhya Pradesh further.\n",
      "126 .  The 'royal magician' of the Congress has once again come up with the pretense of 'Poverty Remove', so that the countrymen have to be careful.\n",
      "127 .  The next year is the 150th birth anniversary of Lord Birsa Munda.The BJP has pledged that 2025 will be celebrated as tribal pride year.\n",
      "128 .  The Congress has been out of power for 10 years and the country is not ready to give it any chance.There are many reasons for not one, but…\n",
      "129 .  Today is the birth anniversary of the constitution maker Babasaheb Ambedkar.The BJP has the privilege of developing their places associated with them as Panchtirtha.\n",
      "130 .  My family members who came to Hoshangabad in large numbers to bless them with a heartfelt greetings!\n",
      "131 .  Extremely humbled by the affection of people in the vibrant city of Mysuru. Addressing a massive public meeting. Do watch! https://nitter.net/i/broadcasts/1djGXNdeDzdxZ\n",
      "132 .  Continuous action will continue to be taken against the corrupt people- this is a guarantee of Modi.\n",
      "133 .  Ambition of the people of the country is the mission of Modi.I am confident that the BJP's resolution letter will get a lot of blessings from the countrymen as a guarantee of Modi.\n",
      "134 .  The BJP also considers Uniform Civil Code to be essential in the national interest.Along with this, we will also carry forward the idea of 'One Nation-One Election'.\n",
      "135 .  Today, there are cloudy uncertainty in the world.At such a time, there is a need for a strong and absolute majority government in India.\n",
      "136 .  BJP's resolve is also to make India a global hub of every emerging sector in the world.The time is not far when India…\n",
      "137 .  The BJP's resolution letter is going to take the country towards self -reliance.\n",
      "138 .  BJP's resolution letter is dedicated to young power, women power, farmer and poor.With these resolutions, I am feeling proud to come among my loved ones in Hoshangabad, Madhya Pradesh.https://nitter.net/i/broadcasts/1djxXNMWvEoGZ\n",
      "139 .  The strong expansion of social, physical and digital infrastructure is the BJP's top priority.\n",
      "140 .  Tamil, the oldest language in the world, is our pride.The BJP will make every effort to increase the global reputation of Tamil language.\n",
      "141 .  The next year is the 150th birth anniversary of Lord Birsa Munda.It will be celebrated at the national level and the tribal pride campaign will be accelerated.\n",
      "142 .  The BJP resolve to make India a food processing hub.This will not only increase the value edition, the benefit of the farmer will increase and new employment opportunities will also be created.\n",
      "143 .  The last 10 years have been dedicated to their dignity and new opportunities for female power.The upcoming 5 years will be of new participation of female power.\n",
      "144 .  In 10 years, we have given many facilities to the disabled.They will be given priority in PM Awas Yojana.Along with this, it has also been decided to bring transgender colleagues under the purview of Ayushman Bharat Scheme.\n",
      "145 .  Along with increasing the loan limit in the Mudra scheme, the self-representation scheme will also be expanded, it will be taken to the small towns and village-countryside of the country.\n",
      "146 .  The BJP has also resolved to expand many schemes of poor welfare.Modi guarantees that…\n",
      "147 .  BJP's resolution letter develops 4 strong pillars of India- youth power, women power, farmers and poor, empowering everyone.\n",
      "148 .  The BJP's Sankalp Patra provides a comprehensive overview of the NDA Government's achievements and charts the vision for building a Viksit Bharat by 2047.  https://nitter.net/i/broadcasts/1jMJgmdkvqAKL\n",
      "149 .  Happy toxic.\n",
      "150 .  Celebrate a joyful Rangali Bihu!\n",
      "151 .  This great voice is giving up happiness for you, giving up for you l\n",
      "152 .  Happy Tamil New Year\n",
      "153 .  Happy New Year to everyone!\n",
      "154 .  There is a special worship of mother Katyayani on the holy Shashthi of Navratri.I wish that the Mother Goddess should bless all my families of the country of healthy life.\n",
      "155 .  Tributes to d.Babasaheb Ambedkar on His Jayanti.Jai Bhim!\n",
      "156 .  I pray for the speedy recovery and good health of Andhra Pradesh CM @ysjagan Garu.\n",
      "157 .  Had a wonderful interaction with youngsters from the gaming community... You would love to watch this! https://nitter.net/i/broadcasts/1dRKZEbNWEQxB\n",
      "158 .  Million in Baisakhi grew.\n",
      "159 .  Salutations to all the brave martyrs of Jallianwala Bagh massacre on behalf of my families across the country.\n",
      "160 .  In Navratri, devotees of Mother worship Goddess Skandamata on this day.The new consciousness is prayed to the Goddess Skandamata to always maintain his grace on all my family members of the country.\n",
      "161 .  The Congress had destroyed the entire Rajasthan including Dausa.Till a few months ago, when she was in power here, her entire power was engaged in corruption, casteism and mutual discord.Because of this, people had to face many problems.There was no work of development.But the Congress is that even today it is not ready to take lessons from its mistakes.This is the reason that today people in every part of the country are denying it.\n",
      "162 .  In our third term, we want to make India the third largest economy in the world and for this we want to bring more industries in Dausa.This will create new opportunities for employment and earnings for the people here, which will bring more happiness in their lives.\n",
      "163 .  People from all over Rajasthan including Dausa understand the importance of water power well.Our government has done unprecedented work in this direction.We are busy in making water from taps in every house.Our PM Agricultural Irrigation Scheme has also benefited a lot to the farmers here.The Congress was sitting hand in hand over ERCP, but this is our government, which is working fast for it.In the coming time, we are going to work in mission mode to deal with every challenge related to water crisis.\n",
      "164 .  The Holistic approach of the NDA government regarding the development of rural areas has also made the lives of the family members of Dausa very easy.Our steps such as PM-Kisan, PM-Fasal Insurance and MSP record increase have brought new happiness in the life of Annadata.We will continue our efforts to empower and enrich our farmer siblings and ensure that their access to the loan and market is easier.\n",
      "165 .  Our party has a vision for the better future of Dausa, which also becomes clear from our track records.Some time ago I was in Dausa for the inauguration of a section of the Delhi-Mumbai Expressway.This part of the expressway has completely changed the development journey of Dausa.On completion of this project, it will prove to be even more beneficial for the people here.Similarly, in Dausa and other parts of Rajasthan, the expansion of roads and railways has brought new pace to the Commerce and Connectivity.\n",
      "166 .  I am overwhelmed by getting unprecedented affection and blessings of my brothers and sisters in Dausa road show!I have felt huge public support for @BJP4rajasthan across the state.My family members of Rajasthan are committed to take the country's development journey to a new peak in the last 10 years with full enthusiasm.That is why they are supporting us with full enthusiasm.\n",
      "167 .  The Congress, which opposed every step taken in the national interest, is not entitled to win a single seat!\n",
      "168 .  It is very important to teach the Congress a lesson once again in the Lok Sabha elections…\n",
      "169 .  On one hand, Modi is busy making India a powerful nation, while the Indie alliance is intent on making the country powerless.\n",
      "170 .  The countrymen have to be very careful with the lies and rumors of the Congress and the Congress, which insults Babasaheb and the Constitution.\n",
      "171 .  The people of Rajasthan who watered the country with their blood, the Congress kept it thirsty for water!We will deliver water to every house in Rajasthan, this is a guarantee of Modi.\n",
      "172 .  The people who gathered at Barmer rally are giving a clear message that the public and Janardan are once again giving a lot of blessings to the BJP.\n",
      "173 .  We are committed to fulfill our promises from the family members of Jammu and Kashmir.\n",
      "174 .  The leaders of the Indie coalition are busy playing with the sentiments of my families across the country.The countrymen never forgive their Mughal thinking for vote bank!\n",
      "175 .  The enthusiasm of my family members in Udhampur is telling that there is a wave of BJP in the entire Jammu and Kashmir in the Lok Sabha elections.\n",
      "176 .  Construction of Ram temple in Ayodhya is not an election issue, but it is a pleasant result of 500 years of penance.In such a situation, I want to ask the Congress and the Indie alliance, which boycotted the life-prestige of Ram Lala…\n",
      "177 .  Modi not only dropped the wall of 370 with the blessings of the Janata-Janardan, but has also buried his debris in the ground.\n",
      "178 .  My family members of Jammu and Kashmir have been witness to unprecedented changes that have come here in the last 10 years.\n",
      "179 .  There is an unprecedented wave of BJP across the country including Rajasthan.In this hard sun, this public gathering in Barmer is going to get rid of the sweat of the leaders of the Indie alliance living in the air condition.https://nitter.net/i/broadcasts/1YqKDgLyyVoxV\n",
      "180 .  Jammu and Kashmir is breathing openly after removing Article 370.My family members who came to bless Udhampur are guaranteed by Modi that this area will touch the new heights of development in the next 5 years.https://nitter.net/i/broadcasts/1PlKQDQywpXxE\n",
      "181 .  Spoke about various subjects pertaining to India’s development and the upcoming elections in the interview with @Live_Hindustan.  @shekharkahin\n",
      "182 .  BJP's priorities for the third term are absolutely clear.We will move forward with full commitment to strengthen the economy along with public welfare schemes.In an interview given to Hindustan, I have talked in detail on every issue… @Shekharkahin https://www.liveHindustan.com/national/story-pm-pm-narendra-scluse-exclusive-interviw-interviw-intervi-t-tobe-hindustan-lok-sabha-sabha-sabha-sabha-sabha-sabha-sabha-sabha-sabha-sabha-sabha-sabha-sabha-sabha-sabha-sabha-sabha-sabha-ections-2024-9745807.html\n",
      "183 .  In the Mahaparva of democracy, the echo of the BJP is being heard all around the country.Today, you will get the privilege of getting the blessings of your family members of Jammu and Kashmir and Rajasthan.In the morning, I will communicate with people in Udhampur in Jammu and Kashmir and after noon in Barmer in Rajasthan.After this, there will be an opportunity to stay between Janata-Janardan in the road show of Dausa.\n",
      "184 .  Uttar Pradesh cabinet minister OP Rajbhar ji's death has been very sad due to the death of mother.May God give peace to his soul, as well as give the power to the mournful families to withstand this pain.My deep condolences to the whole family.om Shanti!\n",
      "185 .  Today is the day of worship of Goddess Kushmanda, the fourth form of Maa Durga.He is prayed to always keep the lives of all his devotees illuminated and pulsed.One of his praise for you ...\n",
      "186 .  Chaired a meeting to review preparedness in the wake of heat wave conditions in different parts of the country. We reviewed aspects relating to augmenting healthcare capacity, spreading awareness and more. https://pib.gov.in/PressReleasePage.aspx?PRID=2017685\n",
      "187 .  The enthusiasm and passion of my family members gathered in Karauli's public meeting has given a clear indication to the result of the Lok Sabha elections.\n",
      "188 .  The mindset of the Congress shows how dangerous its intentions are for the country!\n",
      "189 .  The soil of the village of sacrificial brave martyrs will tell the Congress as to what is Rajasthan about Jammu and Kashmir!\n",
      "190 .  This time, when you go to vote, press such buttons, as if the Congress is punishing its great sin.\n",
      "191 .  Modi is spending his life in fulfilling those big goals, which are associated with the welfare of 140 crore countrymen.\n",
      "192 .  We are busy completing the project providing water in many districts of Rajasthan including Karauli-Dholpur.\n",
      "193 .  The particle of my body and the moment of life is dedicated to 140 crore countrymen.My family members of Karauli in Rajasthan promise that I will not have any shortage in working hard.https://nitter.net/i/broadcasts/1BRJjPLWQNQKw\n",
      "194 .  The people of the country, including Uttarakhand, are going to teach strict lessons in these elections to those who rejected the invitation to the life-prestige of Lord Shri Ram.\n",
      "195 .  The holy land of Uttarakhand including Rishikesh has the power and strength that can change anyone's life.I have one experience related to this…\n",
      "196 .  Modi has fulfilled the guarantee of One Rank One Pension.Had the Congress government been there, it would have been a dream!\n",
      "197 .  When there is a strong government of absolute majority in place of a weak and unstable government in the country, it seems to be a difference…\n",
      "198 .  The enthusiasm and enthusiasm of Jansagar, which has gathered in the holy city of Rishikesh, has made it clear that the BJP is going to get a fierce victory in Uttarakhand.\n",
      "199 .  The bus accident in Mahendragarh, Haryana is extremely painful.My condolences are with all the families who have lost their children in this accident.Along with this, I wish all the injured children to get well soon.Under the supervision of the state government, the local administration is busy in all possible help to the victims and their families.\n",
      "200 .  It is clear from the enthusiasm and passion of the family members who came to bless the servant of Devbhoomi in Rishikesh, Uttarakhand, that the BJP is going to put a hat -trick of victory in all seats.https://nitter.net/i/broadcasts/1LyxBnRBpVyxN\n"
     ]
    }
   ],
   "source": [
    "scrapper=Nitter(log_level=1,skip_instance_check=False)\n",
    "tweets=scrapper.get_tweets(\"narendramodi\",number=200,mode='user')\n",
    "#tweets = scrapper.get_tweets(\"narendramodi\", since=\"2024-04-13\", until=\"2024-04-14\", mode='user',number=20)\n",
    "for i in range(len(tweets['tweets'])):\n",
    "  print(i+1,'. ',translate_text(tweets['tweets'][i]['text']))"
   ]
  },
  {
   "cell_type": "code",
   "execution_count": 8,
   "metadata": {},
   "outputs": [
    {
     "name": "stdout",
     "output_type": "stream",
     "text": [
      "Sample tweet : \n",
      "{'link': 'https://twitter.com/epanchjanya/status/1780613664254398835#m', 'text': 'अनुपम दिन - राम नवमी  अद्भुत प्रयोग - तकनीक और परम्परा का मेल  अनूठी प्रस्तुति - दुर्लभ फोटो व चित्रों के साथ शीर्ष विभूतियों के लेख   देश के यशस्वी प्रधानमंत्री नरेंद्र मोदी जी को भेंट की गई #सबके_राम कॉफी टेबल पुस्तक की प्रथम प्रति।  ऐसी पुस्तक जिसे आप पढ़ सकते हैं और हिंदी अथवा अंग्रेजी में सुन भी सकते हैं।   #SabkeRam #PanchjanyaRamnavmi', 'user': {'name': 'Panchjanya', 'username': '@epanchjanya', 'profile_id': '1559263020223672320', 'avatar': 'https://pbs.twimg.com/profile_images/1559263020223672320/DD-e175F_bigger.jpg'}, 'date': 'Apr 17, 2024 · 3:05 PM UTC', 'is-retweet': True, 'is-pinned': False, 'external-link': '', 'replying-to': [], 'quoted-post': {}, 'stats': {'comments': 91, 'retweets': 545, 'quotes': 8, 'likes': 2331}, 'pictures': [], 'videos': ['https://video.twimg.com/ext_tw_video/1780613546964873219/pu/vid/avc1/1280x720/8H7euk_nodwYkGzS.mp4?tag=12'], 'gifs': []}\n"
     ]
    }
   ],
   "source": [
    "print(\"Sample tweet : \")\n",
    "print(tweets['tweets'][0])"
   ]
  },
  {
   "cell_type": "code",
   "execution_count": null,
   "metadata": {},
   "outputs": [],
   "source": [
    "scrapper=Nitter(log_level=1,skip_instance_check=False)\n",
    "tweets = []\n",
    "max_id = None\n",
    "\n",
    "while True:\n",
    "    params = {\n",
    "        \"mode\": \"user\",\n",
    "        \"terms\": \"narendramodi\"\n",
    "        #\"number\": 20,\n",
    "    }\n",
    "\n",
    "    if max_id is not None:\n",
    "        params[\"max_id\"] = max_id\n",
    "\n",
    "    new_tweets = scrapper.get_tweets(**params)\n",
    "\n",
    "    if len(new_tweets) == 0:\n",
    "        break\n",
    "    tweets.extend(new_tweets['tweets'])\n",
    "    if len(new_tweets) > 0:\n",
    "        if(max_id is None):\n",
    "            max_id = new_tweets[-1][\"id\"] - 1\n",
    "\n",
    "# Access the extracted tweets using the `tweets` variable."
   ]
  }
 ],
 "metadata": {
  "kernelspec": {
   "display_name": "Python 3",
   "language": "python",
   "name": "python3"
  },
  "language_info": {
   "codemirror_mode": {
    "name": "ipython",
    "version": 3
   },
   "file_extension": ".py",
   "mimetype": "text/x-python",
   "name": "python",
   "nbconvert_exporter": "python",
   "pygments_lexer": "ipython3",
   "version": "3.9.6"
  }
 },
 "nbformat": 4,
 "nbformat_minor": 2
}
